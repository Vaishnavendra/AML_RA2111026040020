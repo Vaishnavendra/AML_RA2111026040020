{
 "cells": [
  {
   "cell_type": "code",
   "execution_count": 4,
   "id": "c49b372c",
   "metadata": {
    "collapsed": true
   },
   "outputs": [
    {
     "name": "stdout",
     "output_type": "stream",
     "text": [
      "Looking in indexes: https://download.pytorch.org/whl/cu121\n",
      "Requirement already satisfied: torch in c:\\users\\krvbh\\anaconda3\\lib\\site-packages (2.2.0+cu121)\n",
      "Requirement already satisfied: torchvision in c:\\users\\krvbh\\anaconda3\\lib\\site-packages (0.17.0+cu121)\n",
      "Requirement already satisfied: torchaudio in c:\\users\\krvbh\\anaconda3\\lib\\site-packages (2.2.0+cu121)\n",
      "Requirement already satisfied: filelock in c:\\users\\krvbh\\anaconda3\\lib\\site-packages (from torch) (3.9.0)\n",
      "Requirement already satisfied: typing-extensions>=4.8.0 in c:\\users\\krvbh\\anaconda3\\lib\\site-packages (from torch) (4.8.0)\n",
      "Requirement already satisfied: sympy in c:\\users\\krvbh\\anaconda3\\lib\\site-packages (from torch) (1.11.1)\n",
      "Requirement already satisfied: networkx in c:\\users\\krvbh\\anaconda3\\lib\\site-packages (from torch) (3.1)\n",
      "Requirement already satisfied: jinja2 in c:\\users\\krvbh\\anaconda3\\lib\\site-packages (from torch) (3.1.2)\n",
      "Requirement already satisfied: fsspec in c:\\users\\krvbh\\anaconda3\\lib\\site-packages (from torch) (2023.4.0)\n",
      "Requirement already satisfied: numpy in c:\\users\\krvbh\\anaconda3\\lib\\site-packages (from torchvision) (1.24.3)\n",
      "Requirement already satisfied: requests in c:\\users\\krvbh\\anaconda3\\lib\\site-packages (from torchvision) (2.31.0)\n",
      "Requirement already satisfied: pillow!=8.3.*,>=5.3.0 in c:\\users\\krvbh\\anaconda3\\lib\\site-packages (from torchvision) (10.0.1)\n",
      "Requirement already satisfied: MarkupSafe>=2.0 in c:\\users\\krvbh\\anaconda3\\lib\\site-packages (from jinja2->torch) (2.1.1)\n",
      "Requirement already satisfied: charset-normalizer<4,>=2 in c:\\users\\krvbh\\anaconda3\\lib\\site-packages (from requests->torchvision) (2.0.4)\n",
      "Requirement already satisfied: idna<4,>=2.5 in c:\\users\\krvbh\\anaconda3\\lib\\site-packages (from requests->torchvision) (3.4)\n",
      "Requirement already satisfied: urllib3<3,>=1.21.1 in c:\\users\\krvbh\\anaconda3\\lib\\site-packages (from requests->torchvision) (1.26.16)\n",
      "Requirement already satisfied: certifi>=2017.4.17 in c:\\users\\krvbh\\anaconda3\\lib\\site-packages (from requests->torchvision) (2023.11.17)\n",
      "Requirement already satisfied: mpmath>=0.19 in c:\\users\\krvbh\\anaconda3\\lib\\site-packages (from sympy->torch) (1.3.0)\n"
     ]
    }
   ],
   "source": [
    "!pip install torch torchvision torchaudio --index-url https://download.pytorch.org/whl/cu121"
   ]
  },
  {
   "cell_type": "code",
   "execution_count": 7,
   "id": "d1e670a4",
   "metadata": {
    "collapsed": true
   },
   "outputs": [
    {
     "name": "stdout",
     "output_type": "stream",
     "text": [
      "Requirement already satisfied: transformers in c:\\users\\krvbh\\anaconda3\\lib\\site-packages (4.32.1)\n",
      "Requirement already satisfied: requests in c:\\users\\krvbh\\anaconda3\\lib\\site-packages (2.31.0)\n",
      "Requirement already satisfied: beautifulsoup4 in c:\\users\\krvbh\\anaconda3\\lib\\site-packages (4.12.2)\n",
      "Requirement already satisfied: pandas in c:\\users\\krvbh\\anaconda3\\lib\\site-packages (2.1.4)\n",
      "Requirement already satisfied: numpy in c:\\users\\krvbh\\anaconda3\\lib\\site-packages (1.24.3)\n",
      "Requirement already satisfied: filelock in c:\\users\\krvbh\\anaconda3\\lib\\site-packages (from transformers) (3.9.0)\n",
      "Requirement already satisfied: huggingface-hub<1.0,>=0.15.1 in c:\\users\\krvbh\\anaconda3\\lib\\site-packages (from transformers) (0.15.1)\n",
      "Requirement already satisfied: packaging>=20.0 in c:\\users\\krvbh\\anaconda3\\lib\\site-packages (from transformers) (23.1)\n",
      "Requirement already satisfied: pyyaml>=5.1 in c:\\users\\krvbh\\anaconda3\\lib\\site-packages (from transformers) (6.0)\n",
      "Requirement already satisfied: regex!=2019.12.17 in c:\\users\\krvbh\\anaconda3\\lib\\site-packages (from transformers) (2022.7.9)\n",
      "Requirement already satisfied: tokenizers!=0.11.3,<0.14,>=0.11.1 in c:\\users\\krvbh\\anaconda3\\lib\\site-packages (from transformers) (0.13.2)\n",
      "Requirement already satisfied: safetensors>=0.3.1 in c:\\users\\krvbh\\anaconda3\\lib\\site-packages (from transformers) (0.3.2)\n",
      "Requirement already satisfied: tqdm>=4.27 in c:\\users\\krvbh\\anaconda3\\lib\\site-packages (from transformers) (4.65.0)\n",
      "Requirement already satisfied: charset-normalizer<4,>=2 in c:\\users\\krvbh\\anaconda3\\lib\\site-packages (from requests) (2.0.4)\n",
      "Requirement already satisfied: idna<4,>=2.5 in c:\\users\\krvbh\\anaconda3\\lib\\site-packages (from requests) (3.4)\n",
      "Requirement already satisfied: urllib3<3,>=1.21.1 in c:\\users\\krvbh\\anaconda3\\lib\\site-packages (from requests) (1.26.16)\n",
      "Requirement already satisfied: certifi>=2017.4.17 in c:\\users\\krvbh\\anaconda3\\lib\\site-packages (from requests) (2023.11.17)\n",
      "Requirement already satisfied: soupsieve>1.2 in c:\\users\\krvbh\\anaconda3\\lib\\site-packages (from beautifulsoup4) (2.4)\n",
      "Requirement already satisfied: python-dateutil>=2.8.2 in c:\\users\\krvbh\\anaconda3\\lib\\site-packages (from pandas) (2.8.2)\n",
      "Requirement already satisfied: pytz>=2020.1 in c:\\users\\krvbh\\anaconda3\\lib\\site-packages (from pandas) (2023.3.post1)\n",
      "Requirement already satisfied: tzdata>=2022.1 in c:\\users\\krvbh\\anaconda3\\lib\\site-packages (from pandas) (2023.3)\n",
      "Requirement already satisfied: fsspec in c:\\users\\krvbh\\anaconda3\\lib\\site-packages (from huggingface-hub<1.0,>=0.15.1->transformers) (2023.4.0)\n",
      "Requirement already satisfied: typing-extensions>=3.7.4.3 in c:\\users\\krvbh\\anaconda3\\lib\\site-packages (from huggingface-hub<1.0,>=0.15.1->transformers) (4.8.0)\n",
      "Requirement already satisfied: six>=1.5 in c:\\users\\krvbh\\anaconda3\\lib\\site-packages (from python-dateutil>=2.8.2->pandas) (1.16.0)\n",
      "Requirement already satisfied: colorama in c:\\users\\krvbh\\anaconda3\\lib\\site-packages (from tqdm>=4.27->transformers) (0.4.6)\n"
     ]
    }
   ],
   "source": [
    "!pip install transformers requests beautifulsoup4 pandas numpy "
   ]
  },
  {
   "cell_type": "code",
   "execution_count": 27,
   "id": "4c7f7d88",
   "metadata": {},
   "outputs": [],
   "source": [
    "from transformers import AutoTokenizer,AutoModelForSequenceClassification #convert string into seq of nos\n",
    "import torch #extract highest seq\n",
    "import requests #used to extract webpage\n",
    "from bs4 import BeautifulSoup #extract the reviews we need\n",
    "import re #used to extract specific review\n",
    "import numpy as np\n",
    "import pandas as pd"
   ]
  },
  {
   "cell_type": "code",
   "execution_count": 51,
   "id": "0f3c9f6d",
   "metadata": {},
   "outputs": [],
   "source": [
    "tokenizer =  AutoTokenizer.from_pretrained('nlptown/bert-base-multilingual-uncased-sentiment')\n",
    "\n",
    "model = AutoModelForSequenceClassification.from_pretrained('nlptown/bert-base-multilingual-uncased-sentiment')"
   ]
  },
  {
   "cell_type": "code",
   "execution_count": 58,
   "id": "368bbe69",
   "metadata": {},
   "outputs": [],
   "source": [
    "r = requests.get('https://www.yelp.com/biz/international-sport-motors-san-francisco?override_cta=Get+pricing')\n",
    "soup = BeautifulSoup(r.text, 'html.parser')\n",
    "regex = re.compile('.*comment.*')\n",
    "results = soup.find_all('p', {'class':regex})\n",
    "reviews = [result.text for result in results]"
   ]
  },
  {
   "cell_type": "code",
   "execution_count": 59,
   "id": "23cb666b",
   "metadata": {},
   "outputs": [
    {
     "data": {
      "text/plain": [
       "['I had some concerns about my car, so I took it into ISM to have it inspected.The team checked it over, and discovered a plastic bag wrapped around the exhaust pipe.  No wonder I was smelling burnt plastic!  My brakes are fine, tires are good, and I feel comfortable on the road again.  Thanks to everyone at ISM for another great experience.',\n",
       " 'Brought my Lexus NX300h in for its 20k service. Very responsive, professional and reasonably priced. Will definitely use this business in the future. Easy 5 stars',\n",
       " 'Horrible service, incompetent owner. If you\\'re looking for a new shop to take your car in for service/repairs, look elsewhere. Unless you want to deal with mediocre service, *do not* go here.We took our Volkswagen in for a service at this place, which turned out to be a big mistake. On our way home after the service, the tire warning appeared and we contacted the shop to understand why. We were told that the tire pressure light may not have been reset after they set the tire pressure. Because the tires were working perfectly fine before the service (with no tire warning), we trusted what they said and drove home.Next day, we found that the front right tire went flat over night. We called the shop again and this time we talked with the owner Antonio. Antonio was not helpful whatsoever and denied any responsibility over the flat tire. There is no excuse for a tire to go flat after servicing, especially when we only drove for 30 minutes home on a fairly smooth highway and not some bumpy roads. There was no sign of puncture or external damage to the tire, so it was clear something had gone wrong at the shop. However, Antonio showed no sign of care and gave lukewarm answers about what we can do to get the tire fixed. He gave the impression that it was our own fault for the tire going flat. When we asked about getting our car towed to his shop, he told us to \"do your homework\" and figure it out and pay for it out of our own pocket. The audacity.We did not want to deal with his attitude so we got our car towed to another shop and had the tire replaced. The other shop told us it could not have been us who made the tire go flat.While it\\'s understandable for a mistake to be made during a service, the absolutely poor customer service that followed is not excusable.',\n",
       " \"Kevin,I’m sorry you had a poor experience here.  My aim is always to retain customers and ultimately make people happy.  I’d love to chat with you about this, however I had no correspondence with you.  I dealt with someone else who owns this vehicle and I was not aware of your involvement.  Regardless, I’d like to express my perspective on the matter to possibly clear up some confusion and hopefully come to a resolution.We did perform a basic inspection and service on the vehicle.  At the time of the inspection, the tire light was not on.  We also did not charge you for any tire repair.  As a service we provide, we have a roadside warranty which applies to anyone who spends more than $75 with our shop.  When the owner of the vehicle called in and expressed that they had a flat tire, my service manager and I gave them all the information needed to arrange a courtesy tow so that we could address the problem.  I personally spoke with the vehicle owner several times and provided the information for the warranty company.  Our involvement is repairing the vehicle, when it comes to the warranty companies policies regarding coverage and reimbursement, that is something they would have to explain.  The vehicle owner may have misread my comment about “doing their homework”.  I did not intend to be sarcastic, I just didn’t have that information to give but the warranty company would be able to explain.  I certainly did not say “figure it out and pay out of your own pocket.”  Myself and my service manager made several attempts to help get the vehicle towed in but ultimately it did not meet your time constraints and that is what my understanding was as to why you did not pursue the courtesy tow.  My service manager even followed up with the vehicle owner after the fact to see if we could help further.  In your reference to the poor customer service received, I’m unclear as to what you consider poor customer service.  I spoke to and attempted to help the vehicle owner on the phone throughout the day.  She called in seven times and spoke to myself and my office person.  The vehicle owner called my service manager on her personal cell phone several times on her day off and she attempted to help several times throughout the day.  In my opinion that is sufficient customer service given the fact we did not charge the vehicle owner for the issue they were having. In regards to the customer service issue, I think this demonstrates we cared enough to help her get the vehicle into the facility at no charge so we can address what actually happened.  The vehicle owner opted not to do this.We would of course warranty any scope of repair in regards to workmanship or part failure.  Again, we did not charge you for a tire service.  My facility still never knew why the tire went flat.  There are several factors that need to be considered before blaming another facility for a problem.  Example:  Why did the tire go flat?  Was it a puncture?  Was it a blow out?  Was there a slow leak?  Our facility never had an opportunity to address this issue which ultimately would be irrelevant since we did not repair this issue for the vehicle owner.  We simply wanted to provide good customer service and attempt to arrange a free tow so we can help.  I take my business very seriously and value every customer I have along with every review I receive.  I take every review as a learning opportunity to improve.  Clearly I have failed in some way to have initiated you to leave a negative review.  I want you to know that I am interested in discussing further and hopefully making it right in some way so we can see each other's perspective.  As I mentioned Kevin, I have never corresponded with you so it might be helpful for you to reach out to me directly so we can resolve any issue you may have.  I hope to hear from you. \",\n",
       " \"I first want to say how very difficult a task it is to find a good car repair place for Mercedes-Benz vehicles. That being said, I've scoured the net to find and try out a few places. These guys are very good. I've brought my car here for a couple repairs a few times already. They do a good job and are honest. Specifically respect and head nod to Gelina, who is the Service Manager there. She really took care of me and my car. She explained the whole process and even followed up via text with updates. I appreciate that they can send you their findings via text or email and you can sign off and approve or decline services that way. Super easy and convenient. They even went the extra mile and not only fixed the engine oil leak I came here for, but also did extensive hours of research on my other issue which was my check engine light being on. They found my car was still under warranty and could get fixed at MB for free. They even printed out all kinds of material to help the MB mechanics get to the main issue faster. I can't tell you how reliable they are and how difficult it is to win my trust with something like my car. So, thank you Gelina, Antonio, and team!!! You have a loyal customer in me, and I will recommend you guys to everyone I know.\",\n",
       " \"Their team is super responsive and kind. I sent them a quote that another garage sent me and beat the price. Scheduling via email with their service desk manager - Gellina - was done quickly and the dates offered to me were in the same week. I'll be back!\",\n",
       " 'Great customer service!  I had a Catalytic Converter theft and they took very good care of me.  I will be back with my other vehicles for service and maintenance!',\n",
       " 'Good place for ur car to be serviced and taken care of. The staff is very nice and great attitude. Price is reasonable too',\n",
       " 'Great experience with ISM on my Hyundai Genesis Coupe. Gelina was extremely helpful, and ensured that I was kept informed along every step of the way. When the parts I sourced did not fit my vehicle, they were able to find replacement parts (luckily for me) same day, and kept the committed completion time.I hope to never need to go to another body shop for my car again, but if I do, ISM will be top of my list',\n",
       " \"I had dealt with ISM in the past and got great service. So when my son's car needed Air Conditioning Servicing, I called Antonio and he explained their comprehensive approach to resolving the AC problem.  I live in the East Bay but feel the trustworthiness and reliability of this shop is worth the longer drive to get honest service and peace of mind for not getting screwed. Dealing with Gelina in the front office was an added benefit. She is AWESOME! Very service oriented; strong vehicle operations knowledge, and provided me with a strong sense of credibility and honesty. Thank you again ISM...even with the current cost of gas, the extra miles I had to drive was well worth it!\",\n",
       " 'Giovanni and Antonio,I just wanted to say what a great job you guys did with the repairs to the Toyota.  It was a great experience and the workmanship looks awesome!!!  Great paint matching.Also, Antonio made the whole process so simple - and I really appreciated that he even setup the Enterprise car pickup for me.  Great turnaround service.  I can see why your business has grown and has done well and why you have a loyal followup - and not just cause of the Italian connection either!! hahaIt was great doing business with you guys.  Thanks again.Jeff',\n",
       " \"Today it's been three months since they have had my car I was looking for a miracle worker my car date to be released has been pushback five different times. It is very hard to rearrange your life five different times I drop the car off October 5. I have not seen my car yet it is now December 1. I am overwhelmed with this company. They ordered used parts but charge full price orders. I would not recommend this car for a full body repair. They will take forever if you have three months to six months half of the year to Waist then go for it\"]"
      ]
     },
     "execution_count": 59,
     "metadata": {},
     "output_type": "execute_result"
    }
   ],
   "source": [
    "reviews\n"
   ]
  },
  {
   "cell_type": "code",
   "execution_count": 60,
   "id": "6bbed39a",
   "metadata": {},
   "outputs": [],
   "source": [
    "df = pd.DataFrame(np.array(reviews), columns=['review'])\n"
   ]
  },
  {
   "cell_type": "code",
   "execution_count": 61,
   "id": "612f10aa",
   "metadata": {},
   "outputs": [
    {
     "data": {
      "text/plain": [
       "'I had some concerns about my car, so I took it into ISM to have it inspected.The team checked it over, and discovered a plastic bag wrapped around the exhaust pipe.  No wonder I was smelling burnt plastic!  My brakes are fine, tires are good, and I feel comfortable on the road again.  Thanks to everyone at ISM for another great experience.'"
      ]
     },
     "execution_count": 61,
     "metadata": {},
     "output_type": "execute_result"
    }
   ],
   "source": [
    "df['review'].iloc[0]"
   ]
  },
  {
   "cell_type": "code",
   "execution_count": 62,
   "id": "36aa81b4",
   "metadata": {},
   "outputs": [],
   "source": [
    "def sentiment_score(review):\n",
    "    tokens = tokenizer.encode(review, return_tensors='pt')\n",
    "    result = model(tokens)\n",
    "    return int(torch.argmax(result.logits))+1"
   ]
  },
  {
   "cell_type": "code",
   "execution_count": 63,
   "id": "290b985e",
   "metadata": {},
   "outputs": [],
   "source": [
    "sentiment_score(df['review'].iloc[1])\n",
    "df['sentiment'] = df['review'].apply(lambda x: sentiment_score(x[:512]))\n"
   ]
  },
  {
   "cell_type": "code",
   "execution_count": 64,
   "id": "c4e97ed4",
   "metadata": {},
   "outputs": [
    {
     "data": {
      "text/html": [
       "<div>\n",
       "<style scoped>\n",
       "    .dataframe tbody tr th:only-of-type {\n",
       "        vertical-align: middle;\n",
       "    }\n",
       "\n",
       "    .dataframe tbody tr th {\n",
       "        vertical-align: top;\n",
       "    }\n",
       "\n",
       "    .dataframe thead th {\n",
       "        text-align: right;\n",
       "    }\n",
       "</style>\n",
       "<table border=\"1\" class=\"dataframe\">\n",
       "  <thead>\n",
       "    <tr style=\"text-align: right;\">\n",
       "      <th></th>\n",
       "      <th>review</th>\n",
       "      <th>sentiment</th>\n",
       "    </tr>\n",
       "  </thead>\n",
       "  <tbody>\n",
       "    <tr>\n",
       "      <th>0</th>\n",
       "      <td>I had some concerns about my car, so I took it...</td>\n",
       "      <td>5</td>\n",
       "    </tr>\n",
       "    <tr>\n",
       "      <th>1</th>\n",
       "      <td>Brought my Lexus NX300h in for its 20k service...</td>\n",
       "      <td>5</td>\n",
       "    </tr>\n",
       "    <tr>\n",
       "      <th>2</th>\n",
       "      <td>Horrible service, incompetent owner. If you're...</td>\n",
       "      <td>1</td>\n",
       "    </tr>\n",
       "    <tr>\n",
       "      <th>3</th>\n",
       "      <td>Kevin,I’m sorry you had a poor experience here...</td>\n",
       "      <td>2</td>\n",
       "    </tr>\n",
       "    <tr>\n",
       "      <th>4</th>\n",
       "      <td>I first want to say how very difficult a task ...</td>\n",
       "      <td>5</td>\n",
       "    </tr>\n",
       "    <tr>\n",
       "      <th>5</th>\n",
       "      <td>Their team is super responsive and kind. I sen...</td>\n",
       "      <td>5</td>\n",
       "    </tr>\n",
       "    <tr>\n",
       "      <th>6</th>\n",
       "      <td>Great customer service!  I had a Catalytic Con...</td>\n",
       "      <td>5</td>\n",
       "    </tr>\n",
       "    <tr>\n",
       "      <th>7</th>\n",
       "      <td>Good place for ur car to be serviced and taken...</td>\n",
       "      <td>4</td>\n",
       "    </tr>\n",
       "    <tr>\n",
       "      <th>8</th>\n",
       "      <td>Great experience with ISM on my Hyundai Genesi...</td>\n",
       "      <td>5</td>\n",
       "    </tr>\n",
       "    <tr>\n",
       "      <th>9</th>\n",
       "      <td>I had dealt with ISM in the past and got great...</td>\n",
       "      <td>5</td>\n",
       "    </tr>\n",
       "    <tr>\n",
       "      <th>10</th>\n",
       "      <td>Giovanni and Antonio,I just wanted to say what...</td>\n",
       "      <td>5</td>\n",
       "    </tr>\n",
       "    <tr>\n",
       "      <th>11</th>\n",
       "      <td>Today it's been three months since they have h...</td>\n",
       "      <td>1</td>\n",
       "    </tr>\n",
       "  </tbody>\n",
       "</table>\n",
       "</div>"
      ],
      "text/plain": [
       "                                               review  sentiment\n",
       "0   I had some concerns about my car, so I took it...          5\n",
       "1   Brought my Lexus NX300h in for its 20k service...          5\n",
       "2   Horrible service, incompetent owner. If you're...          1\n",
       "3   Kevin,I’m sorry you had a poor experience here...          2\n",
       "4   I first want to say how very difficult a task ...          5\n",
       "5   Their team is super responsive and kind. I sen...          5\n",
       "6   Great customer service!  I had a Catalytic Con...          5\n",
       "7   Good place for ur car to be serviced and taken...          4\n",
       "8   Great experience with ISM on my Hyundai Genesi...          5\n",
       "9   I had dealt with ISM in the past and got great...          5\n",
       "10  Giovanni and Antonio,I just wanted to say what...          5\n",
       "11  Today it's been three months since they have h...          1"
      ]
     },
     "execution_count": 64,
     "metadata": {},
     "output_type": "execute_result"
    }
   ],
   "source": [
    "df"
   ]
  },
  {
   "cell_type": "code",
   "execution_count": 65,
   "id": "2949f207",
   "metadata": {},
   "outputs": [
    {
     "data": {
      "text/html": [
       "<div>\n",
       "<style scoped>\n",
       "    .dataframe tbody tr th:only-of-type {\n",
       "        vertical-align: middle;\n",
       "    }\n",
       "\n",
       "    .dataframe tbody tr th {\n",
       "        vertical-align: top;\n",
       "    }\n",
       "\n",
       "    .dataframe thead th {\n",
       "        text-align: right;\n",
       "    }\n",
       "</style>\n",
       "<table border=\"1\" class=\"dataframe\">\n",
       "  <thead>\n",
       "    <tr style=\"text-align: right;\">\n",
       "      <th></th>\n",
       "      <th>review</th>\n",
       "      <th>sentiment</th>\n",
       "    </tr>\n",
       "  </thead>\n",
       "  <tbody>\n",
       "    <tr>\n",
       "      <th>7</th>\n",
       "      <td>Good place for ur car to be serviced and taken...</td>\n",
       "      <td>4</td>\n",
       "    </tr>\n",
       "    <tr>\n",
       "      <th>8</th>\n",
       "      <td>Great experience with ISM on my Hyundai Genesi...</td>\n",
       "      <td>5</td>\n",
       "    </tr>\n",
       "    <tr>\n",
       "      <th>9</th>\n",
       "      <td>I had dealt with ISM in the past and got great...</td>\n",
       "      <td>5</td>\n",
       "    </tr>\n",
       "    <tr>\n",
       "      <th>10</th>\n",
       "      <td>Giovanni and Antonio,I just wanted to say what...</td>\n",
       "      <td>5</td>\n",
       "    </tr>\n",
       "    <tr>\n",
       "      <th>11</th>\n",
       "      <td>Today it's been three months since they have h...</td>\n",
       "      <td>1</td>\n",
       "    </tr>\n",
       "  </tbody>\n",
       "</table>\n",
       "</div>"
      ],
      "text/plain": [
       "                                               review  sentiment\n",
       "7   Good place for ur car to be serviced and taken...          4\n",
       "8   Great experience with ISM on my Hyundai Genesi...          5\n",
       "9   I had dealt with ISM in the past and got great...          5\n",
       "10  Giovanni and Antonio,I just wanted to say what...          5\n",
       "11  Today it's been three months since they have h...          1"
      ]
     },
     "execution_count": 65,
     "metadata": {},
     "output_type": "execute_result"
    }
   ],
   "source": [
    "df.tail(5)"
   ]
  },
  {
   "cell_type": "code",
   "execution_count": null,
   "id": "b861bea7",
   "metadata": {},
   "outputs": [],
   "source": []
  },
  {
   "cell_type": "code",
   "execution_count": null,
   "id": "9e5ea541",
   "metadata": {},
   "outputs": [],
   "source": []
  }
 ],
 "metadata": {
  "kernelspec": {
   "display_name": "Python 3 (ipykernel)",
   "language": "python",
   "name": "python3"
  },
  "language_info": {
   "codemirror_mode": {
    "name": "ipython",
    "version": 3
   },
   "file_extension": ".py",
   "mimetype": "text/x-python",
   "name": "python",
   "nbconvert_exporter": "python",
   "pygments_lexer": "ipython3",
   "version": "3.11.5"
  }
 },
 "nbformat": 4,
 "nbformat_minor": 5
}
